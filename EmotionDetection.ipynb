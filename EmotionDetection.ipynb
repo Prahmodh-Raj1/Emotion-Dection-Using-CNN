{
  "nbformat": 4,
  "nbformat_minor": 0,
  "metadata": {
    "colab": {
      "provenance": [],
      "authorship_tag": "ABX9TyO95bEeMIAjP4lGunSAlL7C"
    },
    "kernelspec": {
      "name": "python3",
      "display_name": "Python 3"
    },
    "language_info": {
      "name": "python"
    }
  },
  "cells": [
    {
      "cell_type": "code",
      "execution_count": 1,
      "metadata": {
        "id": "lIcYAWDD1K9_"
      },
      "outputs": [],
      "source": [
        "import numpy as np\n",
        "import pandas as pd\n",
        "import matplotlib.pyplot as plt\n",
        "import tensorflow as tf\n",
        "import seaborn as sn\n",
        "import cv2\n",
        "import PIL.Image as Image\n",
        "import os\n",
        "from tensorflow import keras\n",
        "from sklearn.metrics import confusion_matrix,classification_report\n",
        "from sklearn.model_selection import train_test_split"
      ]
    },
    {
      "cell_type": "code",
      "source": [
        "image_df = pd.read_csv('/content/ckextended.csv')\n",
        "image_df.head()"
      ],
      "metadata": {
        "id": "o0UNInS12BKi",
        "colab": {
          "base_uri": "https://localhost:8080/",
          "height": 206
        },
        "outputId": "04e4d219-b5e1-437b-a8bf-0b86b60e9de9"
      },
      "execution_count": 2,
      "outputs": [
        {
          "output_type": "execute_result",
          "data": {
            "text/plain": [
              "   emotion                                             pixels     Usage\n",
              "0        6  36 39 35 25 19 11 8 7 3 13 15 9 21 57 75 90 10...  Training\n",
              "1        6  88 74 19 4 5 5 3 12 8 21 15 21 15 18 24 29 32 ...  Training\n",
              "2        6  9 2 4 7 1 1 1 0 7 29 49 76 115 141 156 169 177...  Training\n",
              "3        6  104 106 108 104 95 50 60 61 58 83 126 133 139 ...  Training\n",
              "4        6  68 72 67 67 6 2 1 1 1 1 1 14 24 24 38 65 79 94...  Training"
            ],
            "text/html": [
              "\n",
              "  <div id=\"df-a55bcb35-fdd9-4020-a92b-6842114ebf13\" class=\"colab-df-container\">\n",
              "    <div>\n",
              "<style scoped>\n",
              "    .dataframe tbody tr th:only-of-type {\n",
              "        vertical-align: middle;\n",
              "    }\n",
              "\n",
              "    .dataframe tbody tr th {\n",
              "        vertical-align: top;\n",
              "    }\n",
              "\n",
              "    .dataframe thead th {\n",
              "        text-align: right;\n",
              "    }\n",
              "</style>\n",
              "<table border=\"1\" class=\"dataframe\">\n",
              "  <thead>\n",
              "    <tr style=\"text-align: right;\">\n",
              "      <th></th>\n",
              "      <th>emotion</th>\n",
              "      <th>pixels</th>\n",
              "      <th>Usage</th>\n",
              "    </tr>\n",
              "  </thead>\n",
              "  <tbody>\n",
              "    <tr>\n",
              "      <th>0</th>\n",
              "      <td>6</td>\n",
              "      <td>36 39 35 25 19 11 8 7 3 13 15 9 21 57 75 90 10...</td>\n",
              "      <td>Training</td>\n",
              "    </tr>\n",
              "    <tr>\n",
              "      <th>1</th>\n",
              "      <td>6</td>\n",
              "      <td>88 74 19 4 5 5 3 12 8 21 15 21 15 18 24 29 32 ...</td>\n",
              "      <td>Training</td>\n",
              "    </tr>\n",
              "    <tr>\n",
              "      <th>2</th>\n",
              "      <td>6</td>\n",
              "      <td>9 2 4 7 1 1 1 0 7 29 49 76 115 141 156 169 177...</td>\n",
              "      <td>Training</td>\n",
              "    </tr>\n",
              "    <tr>\n",
              "      <th>3</th>\n",
              "      <td>6</td>\n",
              "      <td>104 106 108 104 95 50 60 61 58 83 126 133 139 ...</td>\n",
              "      <td>Training</td>\n",
              "    </tr>\n",
              "    <tr>\n",
              "      <th>4</th>\n",
              "      <td>6</td>\n",
              "      <td>68 72 67 67 6 2 1 1 1 1 1 14 24 24 38 65 79 94...</td>\n",
              "      <td>Training</td>\n",
              "    </tr>\n",
              "  </tbody>\n",
              "</table>\n",
              "</div>\n",
              "    <div class=\"colab-df-buttons\">\n",
              "\n",
              "  <div class=\"colab-df-container\">\n",
              "    <button class=\"colab-df-convert\" onclick=\"convertToInteractive('df-a55bcb35-fdd9-4020-a92b-6842114ebf13')\"\n",
              "            title=\"Convert this dataframe to an interactive table.\"\n",
              "            style=\"display:none;\">\n",
              "\n",
              "  <svg xmlns=\"http://www.w3.org/2000/svg\" height=\"24px\" viewBox=\"0 -960 960 960\">\n",
              "    <path d=\"M120-120v-720h720v720H120Zm60-500h600v-160H180v160Zm220 220h160v-160H400v160Zm0 220h160v-160H400v160ZM180-400h160v-160H180v160Zm440 0h160v-160H620v160ZM180-180h160v-160H180v160Zm440 0h160v-160H620v160Z\"/>\n",
              "  </svg>\n",
              "    </button>\n",
              "\n",
              "  <style>\n",
              "    .colab-df-container {\n",
              "      display:flex;\n",
              "      gap: 12px;\n",
              "    }\n",
              "\n",
              "    .colab-df-convert {\n",
              "      background-color: #E8F0FE;\n",
              "      border: none;\n",
              "      border-radius: 50%;\n",
              "      cursor: pointer;\n",
              "      display: none;\n",
              "      fill: #1967D2;\n",
              "      height: 32px;\n",
              "      padding: 0 0 0 0;\n",
              "      width: 32px;\n",
              "    }\n",
              "\n",
              "    .colab-df-convert:hover {\n",
              "      background-color: #E2EBFA;\n",
              "      box-shadow: 0px 1px 2px rgba(60, 64, 67, 0.3), 0px 1px 3px 1px rgba(60, 64, 67, 0.15);\n",
              "      fill: #174EA6;\n",
              "    }\n",
              "\n",
              "    .colab-df-buttons div {\n",
              "      margin-bottom: 4px;\n",
              "    }\n",
              "\n",
              "    [theme=dark] .colab-df-convert {\n",
              "      background-color: #3B4455;\n",
              "      fill: #D2E3FC;\n",
              "    }\n",
              "\n",
              "    [theme=dark] .colab-df-convert:hover {\n",
              "      background-color: #434B5C;\n",
              "      box-shadow: 0px 1px 3px 1px rgba(0, 0, 0, 0.15);\n",
              "      filter: drop-shadow(0px 1px 2px rgba(0, 0, 0, 0.3));\n",
              "      fill: #FFFFFF;\n",
              "    }\n",
              "  </style>\n",
              "\n",
              "    <script>\n",
              "      const buttonEl =\n",
              "        document.querySelector('#df-a55bcb35-fdd9-4020-a92b-6842114ebf13 button.colab-df-convert');\n",
              "      buttonEl.style.display =\n",
              "        google.colab.kernel.accessAllowed ? 'block' : 'none';\n",
              "\n",
              "      async function convertToInteractive(key) {\n",
              "        const element = document.querySelector('#df-a55bcb35-fdd9-4020-a92b-6842114ebf13');\n",
              "        const dataTable =\n",
              "          await google.colab.kernel.invokeFunction('convertToInteractive',\n",
              "                                                    [key], {});\n",
              "        if (!dataTable) return;\n",
              "\n",
              "        const docLinkHtml = 'Like what you see? Visit the ' +\n",
              "          '<a target=\"_blank\" href=https://colab.research.google.com/notebooks/data_table.ipynb>data table notebook</a>'\n",
              "          + ' to learn more about interactive tables.';\n",
              "        element.innerHTML = '';\n",
              "        dataTable['output_type'] = 'display_data';\n",
              "        await google.colab.output.renderOutput(dataTable, element);\n",
              "        const docLink = document.createElement('div');\n",
              "        docLink.innerHTML = docLinkHtml;\n",
              "        element.appendChild(docLink);\n",
              "      }\n",
              "    </script>\n",
              "  </div>\n",
              "\n",
              "\n",
              "<div id=\"df-cf86a850-2ce5-4dcd-9046-ca95b972a056\">\n",
              "  <button class=\"colab-df-quickchart\" onclick=\"quickchart('df-cf86a850-2ce5-4dcd-9046-ca95b972a056')\"\n",
              "            title=\"Suggest charts\"\n",
              "            style=\"display:none;\">\n",
              "\n",
              "<svg xmlns=\"http://www.w3.org/2000/svg\" height=\"24px\"viewBox=\"0 0 24 24\"\n",
              "     width=\"24px\">\n",
              "    <g>\n",
              "        <path d=\"M19 3H5c-1.1 0-2 .9-2 2v14c0 1.1.9 2 2 2h14c1.1 0 2-.9 2-2V5c0-1.1-.9-2-2-2zM9 17H7v-7h2v7zm4 0h-2V7h2v10zm4 0h-2v-4h2v4z\"/>\n",
              "    </g>\n",
              "</svg>\n",
              "  </button>\n",
              "\n",
              "<style>\n",
              "  .colab-df-quickchart {\n",
              "      --bg-color: #E8F0FE;\n",
              "      --fill-color: #1967D2;\n",
              "      --hover-bg-color: #E2EBFA;\n",
              "      --hover-fill-color: #174EA6;\n",
              "      --disabled-fill-color: #AAA;\n",
              "      --disabled-bg-color: #DDD;\n",
              "  }\n",
              "\n",
              "  [theme=dark] .colab-df-quickchart {\n",
              "      --bg-color: #3B4455;\n",
              "      --fill-color: #D2E3FC;\n",
              "      --hover-bg-color: #434B5C;\n",
              "      --hover-fill-color: #FFFFFF;\n",
              "      --disabled-bg-color: #3B4455;\n",
              "      --disabled-fill-color: #666;\n",
              "  }\n",
              "\n",
              "  .colab-df-quickchart {\n",
              "    background-color: var(--bg-color);\n",
              "    border: none;\n",
              "    border-radius: 50%;\n",
              "    cursor: pointer;\n",
              "    display: none;\n",
              "    fill: var(--fill-color);\n",
              "    height: 32px;\n",
              "    padding: 0;\n",
              "    width: 32px;\n",
              "  }\n",
              "\n",
              "  .colab-df-quickchart:hover {\n",
              "    background-color: var(--hover-bg-color);\n",
              "    box-shadow: 0 1px 2px rgba(60, 64, 67, 0.3), 0 1px 3px 1px rgba(60, 64, 67, 0.15);\n",
              "    fill: var(--button-hover-fill-color);\n",
              "  }\n",
              "\n",
              "  .colab-df-quickchart-complete:disabled,\n",
              "  .colab-df-quickchart-complete:disabled:hover {\n",
              "    background-color: var(--disabled-bg-color);\n",
              "    fill: var(--disabled-fill-color);\n",
              "    box-shadow: none;\n",
              "  }\n",
              "\n",
              "  .colab-df-spinner {\n",
              "    border: 2px solid var(--fill-color);\n",
              "    border-color: transparent;\n",
              "    border-bottom-color: var(--fill-color);\n",
              "    animation:\n",
              "      spin 1s steps(1) infinite;\n",
              "  }\n",
              "\n",
              "  @keyframes spin {\n",
              "    0% {\n",
              "      border-color: transparent;\n",
              "      border-bottom-color: var(--fill-color);\n",
              "      border-left-color: var(--fill-color);\n",
              "    }\n",
              "    20% {\n",
              "      border-color: transparent;\n",
              "      border-left-color: var(--fill-color);\n",
              "      border-top-color: var(--fill-color);\n",
              "    }\n",
              "    30% {\n",
              "      border-color: transparent;\n",
              "      border-left-color: var(--fill-color);\n",
              "      border-top-color: var(--fill-color);\n",
              "      border-right-color: var(--fill-color);\n",
              "    }\n",
              "    40% {\n",
              "      border-color: transparent;\n",
              "      border-right-color: var(--fill-color);\n",
              "      border-top-color: var(--fill-color);\n",
              "    }\n",
              "    60% {\n",
              "      border-color: transparent;\n",
              "      border-right-color: var(--fill-color);\n",
              "    }\n",
              "    80% {\n",
              "      border-color: transparent;\n",
              "      border-right-color: var(--fill-color);\n",
              "      border-bottom-color: var(--fill-color);\n",
              "    }\n",
              "    90% {\n",
              "      border-color: transparent;\n",
              "      border-bottom-color: var(--fill-color);\n",
              "    }\n",
              "  }\n",
              "</style>\n",
              "\n",
              "  <script>\n",
              "    async function quickchart(key) {\n",
              "      const quickchartButtonEl =\n",
              "        document.querySelector('#' + key + ' button');\n",
              "      quickchartButtonEl.disabled = true;  // To prevent multiple clicks.\n",
              "      quickchartButtonEl.classList.add('colab-df-spinner');\n",
              "      try {\n",
              "        const charts = await google.colab.kernel.invokeFunction(\n",
              "            'suggestCharts', [key], {});\n",
              "      } catch (error) {\n",
              "        console.error('Error during call to suggestCharts:', error);\n",
              "      }\n",
              "      quickchartButtonEl.classList.remove('colab-df-spinner');\n",
              "      quickchartButtonEl.classList.add('colab-df-quickchart-complete');\n",
              "    }\n",
              "    (() => {\n",
              "      let quickchartButtonEl =\n",
              "        document.querySelector('#df-cf86a850-2ce5-4dcd-9046-ca95b972a056 button');\n",
              "      quickchartButtonEl.style.display =\n",
              "        google.colab.kernel.accessAllowed ? 'block' : 'none';\n",
              "    })();\n",
              "  </script>\n",
              "</div>\n",
              "\n",
              "    </div>\n",
              "  </div>\n"
            ]
          },
          "metadata": {},
          "execution_count": 2
        }
      ]
    },
    {
      "cell_type": "code",
      "source": [
        "image_df['emotion'].value_counts()"
      ],
      "metadata": {
        "id": "AEtTUU1Y2B3h",
        "colab": {
          "base_uri": "https://localhost:8080/"
        },
        "outputId": "0fb6b6c9-5bb8-4efe-e5f6-05625b81b8f0"
      },
      "execution_count": 3,
      "outputs": [
        {
          "output_type": "execute_result",
          "data": {
            "text/plain": [
              "6    593\n",
              "5     83\n",
              "3     69\n",
              "1     59\n",
              "0     45\n",
              "4     28\n",
              "2     25\n",
              "7     18\n",
              "Name: emotion, dtype: int64"
            ]
          },
          "metadata": {},
          "execution_count": 3
        }
      ]
    },
    {
      "cell_type": "code",
      "source": [
        "classes = [\"Anger\",\"Disgust\",\"Fear\",\"Happiness\",\"Sadness\",\"Surprise\",\"Neutral\",\"Contempt\"]"
      ],
      "metadata": {
        "id": "KXHOcGYs2Cej"
      },
      "execution_count": 4,
      "outputs": []
    },
    {
      "cell_type": "code",
      "source": [
        "image_df['Usage'].value_counts()"
      ],
      "metadata": {
        "id": "de2hd1wR2dIS",
        "colab": {
          "base_uri": "https://localhost:8080/"
        },
        "outputId": "e5543445-3b19-4f3f-f234-e2170a7ba950"
      },
      "execution_count": 5,
      "outputs": [
        {
          "output_type": "execute_result",
          "data": {
            "text/plain": [
              "Training       734\n",
              "PrivateTest     95\n",
              "PublicTest      91\n",
              "Name: Usage, dtype: int64"
            ]
          },
          "metadata": {},
          "execution_count": 5
        }
      ]
    },
    {
      "cell_type": "code",
      "source": [
        "images=[]\n",
        "labels=[]"
      ],
      "metadata": {
        "id": "AWLu5XLbcnOa"
      },
      "execution_count": 6,
      "outputs": []
    },
    {
      "cell_type": "code",
      "source": [
        "total = image_df.shape[0]"
      ],
      "metadata": {
        "id": "bQ8EiDs5c0ea"
      },
      "execution_count": 7,
      "outputs": []
    },
    {
      "cell_type": "code",
      "source": [
        "def string_to_image(pixel_string, width, height):\n",
        "    pixels = np.array(pixel_string.split(), dtype=np.uint8)\n",
        "    return pixels.reshape((height, width))"
      ],
      "metadata": {
        "id": "uEKxOlbbdYVg"
      },
      "execution_count": 8,
      "outputs": []
    },
    {
      "cell_type": "code",
      "source": [
        "IMAGE_SHAPE = (48, 48)\n",
        "for i in range(total):\n",
        "    pixel_string = image_df['pixels'].iloc[i]\n",
        "    emotion = image_df['emotion'].iloc[i]\n",
        "    width, height = (IMAGE_SHAPE)\n",
        "    image_data = string_to_image(pixel_string, width, height)\n",
        "    images.append(image_data)\n",
        "    labels.append(emotion)\n",
        "    #plt.subplot(1, 4, i + 1)\n",
        "    #plt.imshow(image_data, cmap='gray')\n",
        "    #plt.title(f'Emotion: {classes[emotion]}')\n",
        "    #plt.axis('off')\n",
        "\n",
        "#plt.show()"
      ],
      "metadata": {
        "id": "rvdv0lRHdkFd"
      },
      "execution_count": 9,
      "outputs": []
    },
    {
      "cell_type": "code",
      "source": [
        "labels = np.array(labels)\n",
        "images = np.array(images)"
      ],
      "metadata": {
        "id": "e6mAjv7Oks5F"
      },
      "execution_count": 10,
      "outputs": []
    },
    {
      "cell_type": "code",
      "source": [
        "images = images/255"
      ],
      "metadata": {
        "id": "WbUwf25Xrxkv"
      },
      "execution_count": 11,
      "outputs": []
    },
    {
      "cell_type": "code",
      "source": [
        "num_of_classes=8\n",
        "labels_encoded = keras.utils.to_categorical(labels,num_classes = num_of_classes)"
      ],
      "metadata": {
        "id": "vQ24iqCmv-Ut"
      },
      "execution_count": 12,
      "outputs": []
    },
    {
      "cell_type": "code",
      "source": [
        "X_train,X_test,y_train,y_test = train_test_split(images,labels_encoded,test_size=0.2,random_state=10)"
      ],
      "metadata": {
        "id": "prQGbju2xDY6"
      },
      "execution_count": 13,
      "outputs": []
    },
    {
      "cell_type": "code",
      "source": [
        "print(X_train.shape,' ',X_test.shape)"
      ],
      "metadata": {
        "colab": {
          "base_uri": "https://localhost:8080/"
        },
        "id": "D8Op_0h2xddI",
        "outputId": "d5afd2b3-fe9e-44bb-d461-58252cbe8bf8"
      },
      "execution_count": 14,
      "outputs": [
        {
          "output_type": "stream",
          "name": "stdout",
          "text": [
            "(736, 48, 48)   (184, 48, 48)\n"
          ]
        }
      ]
    },
    {
      "cell_type": "code",
      "source": [
        "classifier_model = keras.models.Sequential(\n",
        "    [\n",
        "        keras.layers.Conv2D(filters=32,kernel_size=(3,3),activation='relu',input_shape=(48,48,1)),\n",
        "        keras.layers.MaxPooling2D((2,2)),\n",
        "        keras.layers.Conv2D(filters=64,kernel_size=(3,3),activation='relu'),\n",
        "        keras.layers.MaxPooling2D((2,2)),\n",
        "        keras.layers.Conv2D(filters=128,kernel_size=(3,3),activation='relu'),\n",
        "        keras.layers.MaxPooling2D((2,2)),\n",
        "\n",
        "        keras.layers.Flatten(),\n",
        "        keras.layers.Dense(128,activation='relu'),\n",
        "        keras.layers.Dense(8,activation='softmax')\n",
        "    ]\n",
        ")"
      ],
      "metadata": {
        "id": "2r9tLtbdz7Kg"
      },
      "execution_count": 24,
      "outputs": []
    },
    {
      "cell_type": "code",
      "source": [
        "classifier_model.compile(optimizer='adam',loss='categorical_crossentropy',metrics=['accuracy'])\n",
        "filepath = '/content/best_performing_model.sav'\n",
        "checkpoint = keras.callbacks.ModelCheckpoint(filepath = filepath,monitor='val_loss',verbose=1,save_best_only=True,mode='min')\n",
        "callbacks = [checkpoint]"
      ],
      "metadata": {
        "id": "PXzekZki42e6"
      },
      "execution_count": 25,
      "outputs": []
    },
    {
      "cell_type": "code",
      "source": [
        "history = classifier_model.fit(X_train,y_train,batch_size=32,epochs=20,validation_split=0.2,callbacks=callbacks)"
      ],
      "metadata": {
        "colab": {
          "base_uri": "https://localhost:8080/"
        },
        "id": "tbAeNY195ikk",
        "outputId": "1d615c13-2cf4-443f-8752-6e984190a291"
      },
      "execution_count": 26,
      "outputs": [
        {
          "output_type": "stream",
          "name": "stdout",
          "text": [
            "Epoch 1/20\n",
            "18/19 [===========================>..] - ETA: 0s - loss: 1.4772 - accuracy: 0.6215\n",
            "Epoch 1: val_loss improved from inf to 1.42048, saving model to /content/best_performing_model.sav\n",
            "19/19 [==============================] - 5s 168ms/step - loss: 1.4762 - accuracy: 0.6207 - val_loss: 1.4205 - val_accuracy: 0.6216\n",
            "Epoch 2/20\n",
            "18/19 [===========================>..] - ETA: 0s - loss: 1.3492 - accuracy: 0.6528\n",
            "Epoch 2: val_loss improved from 1.42048 to 1.41569, saving model to /content/best_performing_model.sav\n",
            "19/19 [==============================] - 3s 147ms/step - loss: 1.3541 - accuracy: 0.6497 - val_loss: 1.4157 - val_accuracy: 0.6216\n",
            "Epoch 3/20\n",
            "18/19 [===========================>..] - ETA: 0s - loss: 1.3185 - accuracy: 0.6510\n",
            "Epoch 3: val_loss did not improve from 1.41569\n",
            "19/19 [==============================] - 2s 99ms/step - loss: 1.3188 - accuracy: 0.6497 - val_loss: 1.4273 - val_accuracy: 0.6216\n",
            "Epoch 4/20\n",
            "18/19 [===========================>..] - ETA: 0s - loss: 1.3114 - accuracy: 0.6476\n",
            "Epoch 4: val_loss improved from 1.41569 to 1.39753, saving model to /content/best_performing_model.sav\n",
            "19/19 [==============================] - 3s 162ms/step - loss: 1.3075 - accuracy: 0.6497 - val_loss: 1.3975 - val_accuracy: 0.6216\n",
            "Epoch 5/20\n",
            "19/19 [==============================] - ETA: 0s - loss: 1.3057 - accuracy: 0.6497\n",
            "Epoch 5: val_loss improved from 1.39753 to 1.37966, saving model to /content/best_performing_model.sav\n",
            "19/19 [==============================] - 4s 241ms/step - loss: 1.3057 - accuracy: 0.6497 - val_loss: 1.3797 - val_accuracy: 0.6216\n",
            "Epoch 6/20\n",
            "18/19 [===========================>..] - ETA: 0s - loss: 1.2742 - accuracy: 0.6493\n",
            "Epoch 6: val_loss improved from 1.37966 to 1.34714, saving model to /content/best_performing_model.sav\n",
            "19/19 [==============================] - 3s 150ms/step - loss: 1.2725 - accuracy: 0.6497 - val_loss: 1.3471 - val_accuracy: 0.6216\n",
            "Epoch 7/20\n",
            "18/19 [===========================>..] - ETA: 0s - loss: 1.1991 - accuracy: 0.6458\n",
            "Epoch 7: val_loss improved from 1.34714 to 1.26832, saving model to /content/best_performing_model.sav\n",
            "19/19 [==============================] - 3s 150ms/step - loss: 1.1876 - accuracy: 0.6497 - val_loss: 1.2683 - val_accuracy: 0.6216\n",
            "Epoch 8/20\n",
            "18/19 [===========================>..] - ETA: 0s - loss: 1.0487 - accuracy: 0.6788\n",
            "Epoch 8: val_loss improved from 1.26832 to 1.14787, saving model to /content/best_performing_model.sav\n",
            "19/19 [==============================] - 3s 149ms/step - loss: 1.0683 - accuracy: 0.6735 - val_loss: 1.1479 - val_accuracy: 0.6959\n",
            "Epoch 9/20\n",
            "19/19 [==============================] - ETA: 0s - loss: 0.9146 - accuracy: 0.7551\n",
            "Epoch 9: val_loss improved from 1.14787 to 0.98345, saving model to /content/best_performing_model.sav\n",
            "19/19 [==============================] - 4s 231ms/step - loss: 0.9146 - accuracy: 0.7551 - val_loss: 0.9834 - val_accuracy: 0.7162\n",
            "Epoch 10/20\n",
            "18/19 [===========================>..] - ETA: 0s - loss: 0.7051 - accuracy: 0.7951\n",
            "Epoch 10: val_loss improved from 0.98345 to 0.97061, saving model to /content/best_performing_model.sav\n",
            "19/19 [==============================] - 3s 151ms/step - loss: 0.7078 - accuracy: 0.7925 - val_loss: 0.9706 - val_accuracy: 0.7635\n",
            "Epoch 11/20\n",
            "18/19 [===========================>..] - ETA: 0s - loss: 0.6542 - accuracy: 0.8212\n",
            "Epoch 11: val_loss improved from 0.97061 to 0.86135, saving model to /content/best_performing_model.sav\n",
            "19/19 [==============================] - 3s 152ms/step - loss: 0.6502 - accuracy: 0.8197 - val_loss: 0.8614 - val_accuracy: 0.7500\n",
            "Epoch 12/20\n",
            "18/19 [===========================>..] - ETA: 0s - loss: 0.5276 - accuracy: 0.8542\n",
            "Epoch 12: val_loss did not improve from 0.86135\n",
            "19/19 [==============================] - 2s 103ms/step - loss: 0.5260 - accuracy: 0.8554 - val_loss: 0.8707 - val_accuracy: 0.7568\n",
            "Epoch 13/20\n",
            "18/19 [===========================>..] - ETA: 0s - loss: 0.4771 - accuracy: 0.8507\n",
            "Epoch 13: val_loss did not improve from 0.86135\n",
            "19/19 [==============================] - 2s 101ms/step - loss: 0.4726 - accuracy: 0.8520 - val_loss: 0.9263 - val_accuracy: 0.7838\n",
            "Epoch 14/20\n",
            "19/19 [==============================] - ETA: 0s - loss: 0.4281 - accuracy: 0.8673\n",
            "Epoch 14: val_loss did not improve from 0.86135\n",
            "19/19 [==============================] - 3s 161ms/step - loss: 0.4281 - accuracy: 0.8673 - val_loss: 0.8773 - val_accuracy: 0.7568\n",
            "Epoch 15/20\n",
            "18/19 [===========================>..] - ETA: 0s - loss: 0.3952 - accuracy: 0.8941\n",
            "Epoch 15: val_loss improved from 0.86135 to 0.80520, saving model to /content/best_performing_model.sav\n",
            "19/19 [==============================] - 3s 174ms/step - loss: 0.3888 - accuracy: 0.8963 - val_loss: 0.8052 - val_accuracy: 0.7838\n",
            "Epoch 16/20\n",
            "18/19 [===========================>..] - ETA: 0s - loss: 0.3363 - accuracy: 0.8889\n",
            "Epoch 16: val_loss improved from 0.80520 to 0.79268, saving model to /content/best_performing_model.sav\n",
            "19/19 [==============================] - 3s 173ms/step - loss: 0.3381 - accuracy: 0.8861 - val_loss: 0.7927 - val_accuracy: 0.7770\n",
            "Epoch 17/20\n",
            "18/19 [===========================>..] - ETA: 0s - loss: 0.3286 - accuracy: 0.8993\n",
            "Epoch 17: val_loss did not improve from 0.79268\n",
            "19/19 [==============================] - 2s 101ms/step - loss: 0.3244 - accuracy: 0.9014 - val_loss: 0.8435 - val_accuracy: 0.7770\n",
            "Epoch 18/20\n",
            "18/19 [===========================>..] - ETA: 0s - loss: 0.2505 - accuracy: 0.9236\n",
            "Epoch 18: val_loss improved from 0.79268 to 0.76915, saving model to /content/best_performing_model.sav\n",
            "19/19 [==============================] - 3s 149ms/step - loss: 0.2553 - accuracy: 0.9201 - val_loss: 0.7692 - val_accuracy: 0.7973\n",
            "Epoch 19/20\n",
            "19/19 [==============================] - ETA: 0s - loss: 0.2401 - accuracy: 0.9337\n",
            "Epoch 19: val_loss did not improve from 0.76915\n",
            "19/19 [==============================] - 3s 170ms/step - loss: 0.2401 - accuracy: 0.9337 - val_loss: 0.8653 - val_accuracy: 0.8243\n",
            "Epoch 20/20\n",
            "18/19 [===========================>..] - ETA: 0s - loss: 0.2240 - accuracy: 0.9271\n",
            "Epoch 20: val_loss did not improve from 0.76915\n",
            "19/19 [==============================] - 2s 117ms/step - loss: 0.2206 - accuracy: 0.9286 - val_loss: 0.7931 - val_accuracy: 0.8108\n"
          ]
        }
      ]
    },
    {
      "cell_type": "code",
      "source": [
        "classifier_model.evaluate(X_test,y_test)"
      ],
      "metadata": {
        "colab": {
          "base_uri": "https://localhost:8080/"
        },
        "id": "zaZk2wXN6jxr",
        "outputId": "edb35eff-8932-4027-95ca-727838110741"
      },
      "execution_count": 27,
      "outputs": [
        {
          "output_type": "stream",
          "name": "stdout",
          "text": [
            "6/6 [==============================] - 0s 27ms/step - loss: 0.3376 - accuracy: 0.8804\n"
          ]
        },
        {
          "output_type": "execute_result",
          "data": {
            "text/plain": [
              "[0.3375993072986603, 0.8804348111152649]"
            ]
          },
          "metadata": {},
          "execution_count": 27
        }
      ]
    },
    {
      "cell_type": "code",
      "source": [
        "y_predictions = classifier_model.predict(X_test)\n",
        "y_predictions = [np.argmax(i) for i in y_predictions]\n",
        "y_actual = [np.argmax(i) for i in y_test]"
      ],
      "metadata": {
        "colab": {
          "base_uri": "https://localhost:8080/"
        },
        "id": "vB9pq3Gc9D72",
        "outputId": "0065d8a8-46a5-425a-d1cd-8a27302a6e04"
      },
      "execution_count": 28,
      "outputs": [
        {
          "output_type": "stream",
          "name": "stdout",
          "text": [
            "6/6 [==============================] - 0s 43ms/step\n"
          ]
        }
      ]
    },
    {
      "cell_type": "markdown",
      "source": [
        "### Model Performance"
      ],
      "metadata": {
        "id": "PqvPOv553qp1"
      }
    },
    {
      "cell_type": "code",
      "source": [
        "cm = confusion_matrix(y_actual,y_predictions)\n",
        "plt.figure(figsize=(10,7))\n",
        "sn.heatmap(cm,annot=True)\n",
        "plt.xlabel('Prediction')\n",
        "plt.ylabel('Truth')\n",
        "plt.show()"
      ],
      "metadata": {
        "colab": {
          "base_uri": "https://localhost:8080/",
          "height": 619
        },
        "id": "NPVm9fOTCCu7",
        "outputId": "d2ae712d-3cc9-4fba-82bf-27c883a45bc8"
      },
      "execution_count": 30,
      "outputs": [
        {
          "output_type": "display_data",
          "data": {
            "text/plain": [
              "<Figure size 1000x700 with 2 Axes>"
            ],
            "image/png": "[encoded data removed]"
          },
          "metadata": {}
        }
      ]
    },
    {
      "cell_type": "code",
      "source": [
        "#Plotting the training history\n",
        "plt.plot(history.history['loss'],color='green',label='Training Loss')\n",
        "plt.plot(history.history['val_loss'],color='blue',label='Validation loss')\n",
        "plt.legend(loc='upper right')\n",
        "plt.title('Loss variation')\n",
        "plt.savefig('Model Training History')\n",
        "plt.xlabel('Epochs')\n",
        "plt.ylabel('Loss')\n",
        "plt.show()\n"
      ],
      "metadata": {
        "id": "016ID-ZQDMnR",
        "colab": {
          "base_uri": "https://localhost:8080/",
          "height": 472
        },
        "outputId": "7cffbf88-1fb7-4411-d640-6c7a9d5bd73c"
      },
      "execution_count": 31,
      "outputs": [
        {
          "output_type": "display_data",
          "data": {
            "text/plain": [
              "<Figure size 640x480 with 1 Axes>"
            ],
            "image/png": "[encoded data removed]"
          },
          "metadata": {}
        }
      ]
    },
    {
      "cell_type": "code",
      "source": [
        "plt.plot(history.history['accuracy'], color = 'green', label = 'accuracy')\n",
        "plt.plot(history.history['val_accuracy'], color = 'blue', label = 'val_accuracy')\n",
        "plt.xlabel('Epochs')\n",
        "plt.ylabel('Loss')\n",
        "plt.title('Accuracy')\n",
        "plt.legend(loc = 'upper right')\n",
        "plt.show()"
      ],
      "metadata": {
        "id": "9DMn3_hLjzfV",
        "colab": {
          "base_uri": "https://localhost:8080/",
          "height": 472
        },
        "outputId": "b4f9aa49-f720-45b4-9af0-00e0380b6125"
      },
      "execution_count": 32,
      "outputs": [
        {
          "output_type": "display_data",
          "data": {
            "text/plain": [
              "<Figure size 640x480 with 1 Axes>"
            ],
            "image/png": "[encoded data removed]"
          },
          "metadata": {}
        }
      ]
    }
  ]
}