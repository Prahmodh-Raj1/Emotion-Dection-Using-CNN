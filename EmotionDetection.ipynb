{
  "nbformat": 4,
  "nbformat_minor": 0,
  "metadata": {
    "colab": {
      "provenance": [],
      "authorship_tag": "ABX9TyNyUgILNLmDsaMwTAm2EDYU"
    },
    "kernelspec": {
      "name": "python3",
      "display_name": "Python 3"
    },
    "language_info": {
      "name": "python"
    }
  },
  "cells": [
    {
      "cell_type": "code",
      "execution_count": 43,
      "metadata": {
        "id": "lIcYAWDD1K9_"
      },
      "outputs": [],
      "source": [
        "import numpy as np\n",
        "import pandas as pd\n",
        "import matplotlib.pyplot as plt\n",
        "import tensorflow as tf\n",
        "import seaborn as sn\n",
        "import cv2\n",
        "import PIL.Image as Image\n",
        "import os\n",
        "from tensorflow import keras\n",
        "from sklearn.metrics import confusion_matrix,classification_report\n",
        "from sklearn.model_selection import train_test_split"
      ]
    },
    {
      "cell_type": "code",
      "source": [
        "image_df = pd.read_csv('/content/ckextended.csv')\n",
        "image_df.head()"
      ],
      "metadata": {
        "id": "o0UNInS12BKi",
        "colab": {
          "base_uri": "https://localhost:8080/",
          "height": 206
        },
        "outputId": "0173d9cb-da57-4a4c-f710-b4303a6e6335"
      },
      "execution_count": 2,
      "outputs": [
        {
          "output_type": "execute_result",
          "data": {
            "text/plain": [
              "   emotion                                             pixels     Usage\n",
              "0        6  36 39 35 25 19 11 8 7 3 13 15 9 21 57 75 90 10...  Training\n",
              "1        6  88 74 19 4 5 5 3 12 8 21 15 21 15 18 24 29 32 ...  Training\n",
              "2        6  9 2 4 7 1 1 1 0 7 29 49 76 115 141 156 169 177...  Training\n",
              "3        6  104 106 108 104 95 50 60 61 58 83 126 133 139 ...  Training\n",
              "4        6  68 72 67 67 6 2 1 1 1 1 1 14 24 24 38 65 79 94...  Training"
            ],
            "text/html": [
              "\n",
              "  <div id=\"df-720595e2-559e-4755-872d-bb0e80c136a2\" class=\"colab-df-container\">\n",
              "    <div>\n",
              "<style scoped>\n",
              "    .dataframe tbody tr th:only-of-type {\n",
              "        vertical-align: middle;\n",
              "    }\n",
              "\n",
              "    .dataframe tbody tr th {\n",
              "        vertical-align: top;\n",
              "    }\n",
              "\n",
              "    .dataframe thead th {\n",
              "        text-align: right;\n",
              "    }\n",
              "</style>\n",
              "<table border=\"1\" class=\"dataframe\">\n",
              "  <thead>\n",
              "    <tr style=\"text-align: right;\">\n",
              "      <th></th>\n",
              "      <th>emotion</th>\n",
              "      <th>pixels</th>\n",
              "      <th>Usage</th>\n",
              "    </tr>\n",
              "  </thead>\n",
              "  <tbody>\n",
              "    <tr>\n",
              "      <th>0</th>\n",
              "      <td>6</td>\n",
              "      <td>36 39 35 25 19 11 8 7 3 13 15 9 21 57 75 90 10...</td>\n",
              "      <td>Training</td>\n",
              "    </tr>\n",
              "    <tr>\n",
              "      <th>1</th>\n",
              "      <td>6</td>\n",
              "      <td>88 74 19 4 5 5 3 12 8 21 15 21 15 18 24 29 32 ...</td>\n",
              "      <td>Training</td>\n",
              "    </tr>\n",
              "    <tr>\n",
              "      <th>2</th>\n",
              "      <td>6</td>\n",
              "      <td>9 2 4 7 1 1 1 0 7 29 49 76 115 141 156 169 177...</td>\n",
              "      <td>Training</td>\n",
              "    </tr>\n",
              "    <tr>\n",
              "      <th>3</th>\n",
              "      <td>6</td>\n",
              "      <td>104 106 108 104 95 50 60 61 58 83 126 133 139 ...</td>\n",
              "      <td>Training</td>\n",
              "    </tr>\n",
              "    <tr>\n",
              "      <th>4</th>\n",
              "      <td>6</td>\n",
              "      <td>68 72 67 67 6 2 1 1 1 1 1 14 24 24 38 65 79 94...</td>\n",
              "      <td>Training</td>\n",
              "    </tr>\n",
              "  </tbody>\n",
              "</table>\n",
              "</div>\n",
              "    <div class=\"colab-df-buttons\">\n",
              "\n",
              "  <div class=\"colab-df-container\">\n",
              "    <button class=\"colab-df-convert\" onclick=\"convertToInteractive('df-720595e2-559e-4755-872d-bb0e80c136a2')\"\n",
              "            title=\"Convert this dataframe to an interactive table.\"\n",
              "            style=\"display:none;\">\n",
              "\n",
              "  <svg xmlns=\"http://www.w3.org/2000/svg\" height=\"24px\" viewBox=\"0 -960 960 960\">\n",
              "    <path d=\"M120-120v-720h720v720H120Zm60-500h600v-160H180v160Zm220 220h160v-160H400v160Zm0 220h160v-160H400v160ZM180-400h160v-160H180v160Zm440 0h160v-160H620v160ZM180-180h160v-160H180v160Zm440 0h160v-160H620v160Z\"/>\n",
              "  </svg>\n",
              "    </button>\n",
              "\n",
              "  <style>\n",
              "    .colab-df-container {\n",
              "      display:flex;\n",
              "      gap: 12px;\n",
              "    }\n",
              "\n",
              "    .colab-df-convert {\n",
              "      background-color: #E8F0FE;\n",
              "      border: none;\n",
              "      border-radius: 50%;\n",
              "      cursor: pointer;\n",
              "      display: none;\n",
              "      fill: #1967D2;\n",
              "      height: 32px;\n",
              "      padding: 0 0 0 0;\n",
              "      width: 32px;\n",
              "    }\n",
              "\n",
              "    .colab-df-convert:hover {\n",
              "      background-color: #E2EBFA;\n",
              "      box-shadow: 0px 1px 2px rgba(60, 64, 67, 0.3), 0px 1px 3px 1px rgba(60, 64, 67, 0.15);\n",
              "      fill: #174EA6;\n",
              "    }\n",
              "\n",
              "    .colab-df-buttons div {\n",
              "      margin-bottom: 4px;\n",
              "    }\n",
              "\n",
              "    [theme=dark] .colab-df-convert {\n",
              "      background-color: #3B4455;\n",
              "      fill: #D2E3FC;\n",
              "    }\n",
              "\n",
              "    [theme=dark] .colab-df-convert:hover {\n",
              "      background-color: #434B5C;\n",
              "      box-shadow: 0px 1px 3px 1px rgba(0, 0, 0, 0.15);\n",
              "      filter: drop-shadow(0px 1px 2px rgba(0, 0, 0, 0.3));\n",
              "      fill: #FFFFFF;\n",
              "    }\n",
              "  </style>\n",
              "\n",
              "    <script>\n",
              "      const buttonEl =\n",
              "        document.querySelector('#df-720595e2-559e-4755-872d-bb0e80c136a2 button.colab-df-convert');\n",
              "      buttonEl.style.display =\n",
              "        google.colab.kernel.accessAllowed ? 'block' : 'none';\n",
              "\n",
              "      async function convertToInteractive(key) {\n",
              "        const element = document.querySelector('#df-720595e2-559e-4755-872d-bb0e80c136a2');\n",
              "        const dataTable =\n",
              "          await google.colab.kernel.invokeFunction('convertToInteractive',\n",
              "                                                    [key], {});\n",
              "        if (!dataTable) return;\n",
              "\n",
              "        const docLinkHtml = 'Like what you see? Visit the ' +\n",
              "          '<a target=\"_blank\" href=https://colab.research.google.com/notebooks/data_table.ipynb>data table notebook</a>'\n",
              "          + ' to learn more about interactive tables.';\n",
              "        element.innerHTML = '';\n",
              "        dataTable['output_type'] = 'display_data';\n",
              "        await google.colab.output.renderOutput(dataTable, element);\n",
              "        const docLink = document.createElement('div');\n",
              "        docLink.innerHTML = docLinkHtml;\n",
              "        element.appendChild(docLink);\n",
              "      }\n",
              "    </script>\n",
              "  </div>\n",
              "\n",
              "\n",
              "<div id=\"df-9127821c-1f0e-44ff-9029-ed2975a9d323\">\n",
              "  <button class=\"colab-df-quickchart\" onclick=\"quickchart('df-9127821c-1f0e-44ff-9029-ed2975a9d323')\"\n",
              "            title=\"Suggest charts\"\n",
              "            style=\"display:none;\">\n",
              "\n",
              "<svg xmlns=\"http://www.w3.org/2000/svg\" height=\"24px\"viewBox=\"0 0 24 24\"\n",
              "     width=\"24px\">\n",
              "    <g>\n",
              "        <path d=\"M19 3H5c-1.1 0-2 .9-2 2v14c0 1.1.9 2 2 2h14c1.1 0 2-.9 2-2V5c0-1.1-.9-2-2-2zM9 17H7v-7h2v7zm4 0h-2V7h2v10zm4 0h-2v-4h2v4z\"/>\n",
              "    </g>\n",
              "</svg>\n",
              "  </button>\n",
              "\n",
              "<style>\n",
              "  .colab-df-quickchart {\n",
              "      --bg-color: #E8F0FE;\n",
              "      --fill-color: #1967D2;\n",
              "      --hover-bg-color: #E2EBFA;\n",
              "      --hover-fill-color: #174EA6;\n",
              "      --disabled-fill-color: #AAA;\n",
              "      --disabled-bg-color: #DDD;\n",
              "  }\n",
              "\n",
              "  [theme=dark] .colab-df-quickchart {\n",
              "      --bg-color: #3B4455;\n",
              "      --fill-color: #D2E3FC;\n",
              "      --hover-bg-color: #434B5C;\n",
              "      --hover-fill-color: #FFFFFF;\n",
              "      --disabled-bg-color: #3B4455;\n",
              "      --disabled-fill-color: #666;\n",
              "  }\n",
              "\n",
              "  .colab-df-quickchart {\n",
              "    background-color: var(--bg-color);\n",
              "    border: none;\n",
              "    border-radius: 50%;\n",
              "    cursor: pointer;\n",
              "    display: none;\n",
              "    fill: var(--fill-color);\n",
              "    height: 32px;\n",
              "    padding: 0;\n",
              "    width: 32px;\n",
              "  }\n",
              "\n",
              "  .colab-df-quickchart:hover {\n",
              "    background-color: var(--hover-bg-color);\n",
              "    box-shadow: 0 1px 2px rgba(60, 64, 67, 0.3), 0 1px 3px 1px rgba(60, 64, 67, 0.15);\n",
              "    fill: var(--button-hover-fill-color);\n",
              "  }\n",
              "\n",
              "  .colab-df-quickchart-complete:disabled,\n",
              "  .colab-df-quickchart-complete:disabled:hover {\n",
              "    background-color: var(--disabled-bg-color);\n",
              "    fill: var(--disabled-fill-color);\n",
              "    box-shadow: none;\n",
              "  }\n",
              "\n",
              "  .colab-df-spinner {\n",
              "    border: 2px solid var(--fill-color);\n",
              "    border-color: transparent;\n",
              "    border-bottom-color: var(--fill-color);\n",
              "    animation:\n",
              "      spin 1s steps(1) infinite;\n",
              "  }\n",
              "\n",
              "  @keyframes spin {\n",
              "    0% {\n",
              "      border-color: transparent;\n",
              "      border-bottom-color: var(--fill-color);\n",
              "      border-left-color: var(--fill-color);\n",
              "    }\n",
              "    20% {\n",
              "      border-color: transparent;\n",
              "      border-left-color: var(--fill-color);\n",
              "      border-top-color: var(--fill-color);\n",
              "    }\n",
              "    30% {\n",
              "      border-color: transparent;\n",
              "      border-left-color: var(--fill-color);\n",
              "      border-top-color: var(--fill-color);\n",
              "      border-right-color: var(--fill-color);\n",
              "    }\n",
              "    40% {\n",
              "      border-color: transparent;\n",
              "      border-right-color: var(--fill-color);\n",
              "      border-top-color: var(--fill-color);\n",
              "    }\n",
              "    60% {\n",
              "      border-color: transparent;\n",
              "      border-right-color: var(--fill-color);\n",
              "    }\n",
              "    80% {\n",
              "      border-color: transparent;\n",
              "      border-right-color: var(--fill-color);\n",
              "      border-bottom-color: var(--fill-color);\n",
              "    }\n",
              "    90% {\n",
              "      border-color: transparent;\n",
              "      border-bottom-color: var(--fill-color);\n",
              "    }\n",
              "  }\n",
              "</style>\n",
              "\n",
              "  <script>\n",
              "    async function quickchart(key) {\n",
              "      const quickchartButtonEl =\n",
              "        document.querySelector('#' + key + ' button');\n",
              "      quickchartButtonEl.disabled = true;  // To prevent multiple clicks.\n",
              "      quickchartButtonEl.classList.add('colab-df-spinner');\n",
              "      try {\n",
              "        const charts = await google.colab.kernel.invokeFunction(\n",
              "            'suggestCharts', [key], {});\n",
              "      } catch (error) {\n",
              "        console.error('Error during call to suggestCharts:', error);\n",
              "      }\n",
              "      quickchartButtonEl.classList.remove('colab-df-spinner');\n",
              "      quickchartButtonEl.classList.add('colab-df-quickchart-complete');\n",
              "    }\n",
              "    (() => {\n",
              "      let quickchartButtonEl =\n",
              "        document.querySelector('#df-9127821c-1f0e-44ff-9029-ed2975a9d323 button');\n",
              "      quickchartButtonEl.style.display =\n",
              "        google.colab.kernel.accessAllowed ? 'block' : 'none';\n",
              "    })();\n",
              "  </script>\n",
              "</div>\n",
              "\n",
              "    </div>\n",
              "  </div>\n"
            ]
          },
          "metadata": {},
          "execution_count": 2
        }
      ]
    },
    {
      "cell_type": "code",
      "source": [
        "image_df['emotion'].value_counts()"
      ],
      "metadata": {
        "id": "AEtTUU1Y2B3h",
        "colab": {
          "base_uri": "https://localhost:8080/"
        },
        "outputId": "5d2b763f-51d2-413e-b4b2-305a1f4fbfb0"
      },
      "execution_count": 3,
      "outputs": [
        {
          "output_type": "execute_result",
          "data": {
            "text/plain": [
              "6    593\n",
              "5     83\n",
              "3     69\n",
              "1     59\n",
              "0     45\n",
              "4     28\n",
              "2     25\n",
              "7     18\n",
              "Name: emotion, dtype: int64"
            ]
          },
          "metadata": {},
          "execution_count": 3
        }
      ]
    },
    {
      "cell_type": "code",
      "source": [
        "classes = [\"Anger\",\"Disgust\",\"Fear\",\"Happiness\",\"Sadness\",\"Surprise\",\"Neutral\",\"Contempt\"]"
      ],
      "metadata": {
        "id": "KXHOcGYs2Cej"
      },
      "execution_count": 4,
      "outputs": []
    },
    {
      "cell_type": "code",
      "source": [
        "image_df['Usage'].value_counts()"
      ],
      "metadata": {
        "id": "de2hd1wR2dIS",
        "colab": {
          "base_uri": "https://localhost:8080/"
        },
        "outputId": "972bf6b8-e7de-41c1-f05c-45c7b4897914"
      },
      "execution_count": 5,
      "outputs": [
        {
          "output_type": "execute_result",
          "data": {
            "text/plain": [
              "Training       734\n",
              "PrivateTest     95\n",
              "PublicTest      91\n",
              "Name: Usage, dtype: int64"
            ]
          },
          "metadata": {},
          "execution_count": 5
        }
      ]
    },
    {
      "cell_type": "code",
      "source": [
        "images=[]\n",
        "labels=[]"
      ],
      "metadata": {
        "id": "AWLu5XLbcnOa"
      },
      "execution_count": 37,
      "outputs": []
    },
    {
      "cell_type": "code",
      "source": [
        "total = image_df.shape[0]"
      ],
      "metadata": {
        "id": "bQ8EiDs5c0ea"
      },
      "execution_count": 30,
      "outputs": []
    },
    {
      "cell_type": "code",
      "source": [
        "def string_to_image(pixel_string, width, height):\n",
        "    pixels = np.array(pixel_string.split(), dtype=np.uint8)\n",
        "    return pixels.reshape((height, width))"
      ],
      "metadata": {
        "id": "uEKxOlbbdYVg"
      },
      "execution_count": 10,
      "outputs": []
    },
    {
      "cell_type": "code",
      "source": [
        "IMAGE_SHAPE = (48, 48)\n",
        "for i in range(total):\n",
        "    pixel_string = image_df['pixels'].iloc[i]\n",
        "    emotion = image_df['emotion'].iloc[i]\n",
        "    width, height = (IMAGE_SHAPE)\n",
        "    image_data = string_to_image(pixel_string, width, height)\n",
        "    images.append(image_data)\n",
        "    labels.append(emotion)\n",
        "    #plt.subplot(1, 4, i + 1)\n",
        "    #plt.imshow(image_data, cmap='gray')\n",
        "    #plt.title(f'Emotion: {classes[emotion]}')\n",
        "    #plt.axis('off')\n",
        "\n",
        "#plt.show()"
      ],
      "metadata": {
        "id": "rvdv0lRHdkFd"
      },
      "execution_count": 38,
      "outputs": []
    },
    {
      "cell_type": "code",
      "source": [
        "labels = np.array(labels)\n",
        "images = np.array(images)"
      ],
      "metadata": {
        "id": "e6mAjv7Oks5F"
      },
      "execution_count": 39,
      "outputs": []
    },
    {
      "cell_type": "code",
      "source": [
        "images = images/255"
      ],
      "metadata": {
        "id": "WbUwf25Xrxkv"
      },
      "execution_count": 40,
      "outputs": []
    },
    {
      "cell_type": "code",
      "source": [
        "num_of_classes=8\n",
        "labels_encoded = keras.utils.to_categorical(labels,num_classes = num_of_classes)"
      ],
      "metadata": {
        "id": "vQ24iqCmv-Ut"
      },
      "execution_count": 42,
      "outputs": []
    },
    {
      "cell_type": "code",
      "source": [
        "X_train,X_test,y_train,y_test = train_test_split(images,labels_encoded,test_size=0.2,random_state=10)"
      ],
      "metadata": {
        "id": "prQGbju2xDY6"
      },
      "execution_count": 44,
      "outputs": []
    },
    {
      "cell_type": "code",
      "source": [
        "print(X_train.shape,' ',X_test.shape)"
      ],
      "metadata": {
        "colab": {
          "base_uri": "https://localhost:8080/"
        },
        "id": "D8Op_0h2xddI",
        "outputId": "31a419fc-282b-4482-f544-93a8517c9c55"
      },
      "execution_count": 46,
      "outputs": [
        {
          "output_type": "stream",
          "name": "stdout",
          "text": [
            "(736, 48, 48)   (184, 48, 48)\n"
          ]
        }
      ]
    },
    {
      "cell_type": "code",
      "source": [
        "classifier_model = keras.models.Sequential(\n",
        "    [\n",
        "        keras.layers.Conv2D(filters=32,kernel_size=(3,3),activation='relu',input_shape=(48,48,1)),\n",
        "        keras.layers.MaxPooling2D((2,2)),\n",
        "        keras.layers.Conv2D(filters=64,kernel_size=(3,3),activation='relu'),\n",
        "        keras.layers.MaxPooling2D((2,2)),\n",
        "        keras.layers.Conv2D(filters=128,kernel_size=(3,3),activation='relu'),\n",
        "        keras.layers.MaxPooling2D((2,2)),\n",
        "\n",
        "        keras.layers.Flatten(),\n",
        "        keras.layers.Dense(128,activation='relu'),\n",
        "        keras.layers.Dense(8,activation='softmax')\n",
        "    ]\n",
        ")"
      ],
      "metadata": {
        "id": "2r9tLtbdz7Kg"
      },
      "execution_count": 49,
      "outputs": []
    },
    {
      "cell_type": "code",
      "source": [
        "classifier_model.compile(optimizer='adam',loss='categorical_crossentropy',metrics=['accuracy'])"
      ],
      "metadata": {
        "id": "PXzekZki42e6"
      },
      "execution_count": 50,
      "outputs": []
    },
    {
      "cell_type": "code",
      "source": [
        "classifier_model.fit(X_train,y_train,batch_size=32,epochs=50)"
      ],
      "metadata": {
        "colab": {
          "base_uri": "https://localhost:8080/"
        },
        "id": "tbAeNY195ikk",
        "outputId": "aad02153-c2d8-489f-f6f7-d41f586d41f9"
      },
      "execution_count": 51,
      "outputs": [
        {
          "output_type": "stream",
          "name": "stdout",
          "text": [
            "Epoch 1/50\n",
            "23/23 [==============================] - 5s 126ms/step - loss: 1.4351 - accuracy: 0.6250\n",
            "Epoch 2/50\n",
            "23/23 [==============================] - 4s 157ms/step - loss: 1.3332 - accuracy: 0.6440\n",
            "Epoch 3/50\n",
            "23/23 [==============================] - 3s 111ms/step - loss: 1.3134 - accuracy: 0.6440\n",
            "Epoch 4/50\n",
            "23/23 [==============================] - 2s 93ms/step - loss: 1.2808 - accuracy: 0.6440\n",
            "Epoch 5/50\n",
            "23/23 [==============================] - 2s 94ms/step - loss: 1.2192 - accuracy: 0.6454\n",
            "Epoch 6/50\n",
            "23/23 [==============================] - 2s 93ms/step - loss: 1.0322 - accuracy: 0.6957\n",
            "Epoch 7/50\n",
            "23/23 [==============================] - 2s 100ms/step - loss: 0.8367 - accuracy: 0.7663\n",
            "Epoch 8/50\n",
            "23/23 [==============================] - 4s 167ms/step - loss: 0.6736 - accuracy: 0.8152\n",
            "Epoch 9/50\n",
            "23/23 [==============================] - 3s 140ms/step - loss: 0.6062 - accuracy: 0.8370\n",
            "Epoch 10/50\n",
            "23/23 [==============================] - 2s 98ms/step - loss: 0.4974 - accuracy: 0.8533\n",
            "Epoch 11/50\n",
            "23/23 [==============================] - 2s 101ms/step - loss: 0.4442 - accuracy: 0.8655\n",
            "Epoch 12/50\n",
            "23/23 [==============================] - 2s 96ms/step - loss: 0.4213 - accuracy: 0.8736\n",
            "Epoch 13/50\n",
            "23/23 [==============================] - 2s 97ms/step - loss: 0.3707 - accuracy: 0.8872\n",
            "Epoch 14/50\n",
            "23/23 [==============================] - 4s 159ms/step - loss: 0.3153 - accuracy: 0.9022\n",
            "Epoch 15/50\n",
            "23/23 [==============================] - 4s 160ms/step - loss: 0.2699 - accuracy: 0.9266\n",
            "Epoch 16/50\n",
            "23/23 [==============================] - 2s 96ms/step - loss: 0.1992 - accuracy: 0.9443\n",
            "Epoch 17/50\n",
            "23/23 [==============================] - 2s 101ms/step - loss: 0.1834 - accuracy: 0.9484\n",
            "Epoch 18/50\n",
            "23/23 [==============================] - 2s 102ms/step - loss: 0.1797 - accuracy: 0.9429\n",
            "Epoch 19/50\n",
            "23/23 [==============================] - 2s 105ms/step - loss: 0.1497 - accuracy: 0.9524\n",
            "Epoch 20/50\n",
            "23/23 [==============================] - 4s 159ms/step - loss: 0.1068 - accuracy: 0.9796\n",
            "Epoch 21/50\n",
            "23/23 [==============================] - 4s 166ms/step - loss: 0.1048 - accuracy: 0.9715\n",
            "Epoch 22/50\n",
            "23/23 [==============================] - 2s 99ms/step - loss: 0.0921 - accuracy: 0.9769\n",
            "Epoch 23/50\n",
            "23/23 [==============================] - 2s 99ms/step - loss: 0.0712 - accuracy: 0.9878\n",
            "Epoch 24/50\n",
            "23/23 [==============================] - 2s 101ms/step - loss: 0.0649 - accuracy: 0.9851\n",
            "Epoch 25/50\n",
            "23/23 [==============================] - 2s 99ms/step - loss: 0.0580 - accuracy: 0.9823\n",
            "Epoch 26/50\n",
            "23/23 [==============================] - 3s 148ms/step - loss: 0.0462 - accuracy: 0.9891\n",
            "Epoch 27/50\n",
            "23/23 [==============================] - 4s 166ms/step - loss: 0.0364 - accuracy: 0.9946\n",
            "Epoch 28/50\n",
            "23/23 [==============================] - 2s 101ms/step - loss: 0.0356 - accuracy: 0.9918\n",
            "Epoch 29/50\n",
            "23/23 [==============================] - 2s 98ms/step - loss: 0.0370 - accuracy: 0.9946\n",
            "Epoch 30/50\n",
            "23/23 [==============================] - 2s 97ms/step - loss: 0.0525 - accuracy: 0.9891\n",
            "Epoch 31/50\n",
            "23/23 [==============================] - 2s 97ms/step - loss: 0.0333 - accuracy: 0.9878\n",
            "Epoch 32/50\n",
            "23/23 [==============================] - 3s 137ms/step - loss: 0.0341 - accuracy: 0.9891\n",
            "Epoch 33/50\n",
            "23/23 [==============================] - 4s 166ms/step - loss: 0.0422 - accuracy: 0.9878\n",
            "Epoch 34/50\n",
            "23/23 [==============================] - 2s 103ms/step - loss: 0.0234 - accuracy: 0.9932\n",
            "Epoch 35/50\n",
            "23/23 [==============================] - 2s 95ms/step - loss: 0.0137 - accuracy: 0.9973\n",
            "Epoch 36/50\n",
            "23/23 [==============================] - 2s 94ms/step - loss: 0.0153 - accuracy: 0.9959\n",
            "Epoch 37/50\n",
            "23/23 [==============================] - 2s 95ms/step - loss: 0.0073 - accuracy: 0.9986\n",
            "Epoch 38/50\n",
            "23/23 [==============================] - 3s 111ms/step - loss: 0.0047 - accuracy: 1.0000\n",
            "Epoch 39/50\n",
            "23/23 [==============================] - 4s 157ms/step - loss: 0.0037 - accuracy: 1.0000\n",
            "Epoch 40/50\n",
            "23/23 [==============================] - 3s 127ms/step - loss: 0.0036 - accuracy: 1.0000\n",
            "Epoch 41/50\n",
            "23/23 [==============================] - 2s 94ms/step - loss: 0.0039 - accuracy: 1.0000\n",
            "Epoch 42/50\n",
            "23/23 [==============================] - 2s 95ms/step - loss: 0.0031 - accuracy: 1.0000\n",
            "Epoch 43/50\n",
            "23/23 [==============================] - 2s 94ms/step - loss: 0.0033 - accuracy: 1.0000\n",
            "Epoch 44/50\n",
            "23/23 [==============================] - 2s 95ms/step - loss: 0.0023 - accuracy: 1.0000\n",
            "Epoch 45/50\n",
            "23/23 [==============================] - 3s 151ms/step - loss: 0.0020 - accuracy: 1.0000\n",
            "Epoch 46/50\n",
            "23/23 [==============================] - 4s 156ms/step - loss: 0.0018 - accuracy: 1.0000\n",
            "Epoch 47/50\n",
            "23/23 [==============================] - 2s 94ms/step - loss: 0.0017 - accuracy: 1.0000\n",
            "Epoch 48/50\n",
            "23/23 [==============================] - 2s 93ms/step - loss: 0.0014 - accuracy: 1.0000\n",
            "Epoch 49/50\n",
            "23/23 [==============================] - 2s 94ms/step - loss: 0.0016 - accuracy: 1.0000\n",
            "Epoch 50/50\n",
            "23/23 [==============================] - 2s 94ms/step - loss: 0.0015 - accuracy: 1.0000\n"
          ]
        },
        {
          "output_type": "execute_result",
          "data": {
            "text/plain": [
              "<keras.src.callbacks.History at 0x78d56813e4d0>"
            ]
          },
          "metadata": {},
          "execution_count": 51
        }
      ]
    },
    {
      "cell_type": "code",
      "source": [
        "classifier_model.evaluate(X_test,y_test)"
      ],
      "metadata": {
        "colab": {
          "base_uri": "https://localhost:8080/"
        },
        "id": "zaZk2wXN6jxr",
        "outputId": "d6d45178-191e-4426-ed3d-6652de08634f"
      },
      "execution_count": 52,
      "outputs": [
        {
          "output_type": "stream",
          "name": "stdout",
          "text": [
            "6/6 [==============================] - 1s 28ms/step - loss: 0.3357 - accuracy: 0.9293\n"
          ]
        },
        {
          "output_type": "execute_result",
          "data": {
            "text/plain": [
              "[0.33571913838386536, 0.929347813129425]"
            ]
          },
          "metadata": {},
          "execution_count": 52
        }
      ]
    },
    {
      "cell_type": "code",
      "source": [
        "y_predictions = classifier_model.predict(X_test)\n",
        "y_predictions = [np.argmax(i) for i in y_predictions]\n",
        "y_actual = [np.argmax(i) for i in y_test]"
      ],
      "metadata": {
        "colab": {
          "base_uri": "https://localhost:8080/"
        },
        "id": "vB9pq3Gc9D72",
        "outputId": "3bcc7068-1aca-4f4e-f07e-f93a71e5253f"
      },
      "execution_count": 68,
      "outputs": [
        {
          "output_type": "stream",
          "name": "stdout",
          "text": [
            "6/6 [==============================] - 0s 26ms/step\n"
          ]
        }
      ]
    },
    {
      "cell_type": "code",
      "source": [
        "classifier_model.save('/content/emotion_detection_model.sav')"
      ],
      "metadata": {
        "id": "7SykMUBv9Zk8"
      },
      "execution_count": 53,
      "outputs": []
    },
    {
      "cell_type": "code",
      "source": [
        "print(classification_report(y_predictions,y_actual))"
      ],
      "metadata": {
        "colab": {
          "base_uri": "https://localhost:8080/"
        },
        "id": "SZIiTsfY-CFn",
        "outputId": "57e2445f-1626-47c5-ac6e-e72524de0ed4"
      },
      "execution_count": 69,
      "outputs": [
        {
          "output_type": "stream",
          "name": "stdout",
          "text": [
            "              precision    recall  f1-score   support\n",
            "\n",
            "           0       0.50      0.67      0.57         6\n",
            "           1       0.91      0.91      0.91        11\n",
            "           2       0.50      0.50      0.50         4\n",
            "           3       1.00      1.00      1.00        14\n",
            "           4       0.40      1.00      0.57         2\n",
            "           5       1.00      1.00      1.00        20\n",
            "           6       0.99      0.95      0.97       124\n",
            "           7       0.33      0.33      0.33         3\n",
            "\n",
            "    accuracy                           0.93       184\n",
            "   macro avg       0.70      0.80      0.73       184\n",
            "weighted avg       0.94      0.93      0.93       184\n",
            "\n"
          ]
        }
      ]
    },
    {
      "cell_type": "code",
      "source": [
        "cm = confusion_matrix(y_actual,y_predictions)\n",
        "plt.figure(figsize=(10,7))\n",
        "sn.heatmap(cm,annot=True)\n",
        "plt.xlabel('Prediction')\n",
        "plt.ylabel('Truth')\n",
        "plt.show()"
      ],
      "metadata": {
        "colab": {
          "base_uri": "https://localhost:8080/",
          "height": 561
        },
        "id": "NPVm9fOTCCu7",
        "outputId": "b53b294b-28a6-409a-f489-33b3799c78be"
      },
      "execution_count": 73,
      "outputs": [
        {
          "output_type": "display_data",
          "data": {
            "text/plain": [
              "<Figure size 1000x700 with 2 Axes>"
            ],
            "image/png": "[encoded data removed]"
          },
          "metadata": {}
        }
      ]
    },
    {
      "cell_type": "code",
      "source": [],
      "metadata": {
        "id": "016ID-ZQDMnR"
      },
      "execution_count": null,
      "outputs": []
    }
  ]
}